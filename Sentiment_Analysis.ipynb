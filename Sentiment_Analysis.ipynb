{
  "cells": [
    {
      "cell_type": "markdown",
      "metadata": {
        "id": "view-in-github",
        "colab_type": "text"
      },
      "source": [
        "<a href=\"https://colab.research.google.com/github/Ananya9703/Datathon-TARA/blob/main/Sentiment_Analysis.ipynb\" target=\"_parent\"><img src=\"https://colab.research.google.com/assets/colab-badge.svg\" alt=\"Open In Colab\"/></a>"
      ]
    },
    {
      "cell_type": "markdown",
      "source": [
        "Doing Sentimental Analysis"
      ],
      "metadata": {
        "id": "4_O_3wYRPRhX"
      },
      "id": "4_O_3wYRPRhX"
    },
    {
      "cell_type": "code",
      "source": [
        "import pandas as pd\n",
        "import nltk\n",
        "from nltk.sentiment.vader import SentimentIntensityAnalyzer\n",
        "\n",
        "\n",
        "nltk.download('vader_lexicon')\n",
        "# Initialize the sentiment analyzer\n",
        "sia = SentimentIntensityAnalyzer()\n",
        "\n",
        "# Function to perform sentiment analysis\n",
        "def analyze_sentiment(text):\n",
        "    sentiment_score = sia.polarity_scores(text)\n",
        "\n",
        "    if sentiment_score['compound'] > 0:\n",
        "        return 'Positive'\n",
        "    elif sentiment_score['compound'] < 0:\n",
        "        return 'Negative'\n",
        "    else:\n",
        "        return 'Neutral'\n",
        "\n",
        "# Perform sentiment analysis on each narrative\n",
        "sentiments = []\n",
        "for index, row in data.iterrows():\n",
        "    sentiment = analyze_sentiment(row['narrative'])\n",
        "    sentiments.append(sentiment)\n",
        "\n",
        "# Add sentiment labels to the dataset or store separately for further analysis\n",
        "data['sentiment'] = sentiments\n",
        "\n",
        "# Display the DataFrame with sentiment labels\n",
        "print(data.head())"
      ],
      "metadata": {
        "colab": {
          "base_uri": "https://localhost:8080/",
          "height": 245
        },
        "id": "NdG5NUF3WUhH",
        "outputId": "b78f4fd6-6281-45d5-b3ba-57279230ea3f"
      },
      "id": "NdG5NUF3WUhH",
      "execution_count": null,
      "outputs": [
        {
          "output_type": "stream",
          "name": "stderr",
          "text": [
            "[nltk_data] Downloading package vader_lexicon to /root/nltk_data...\n",
            "[nltk_data]   Package vader_lexicon is already up-to-date!\n"
          ]
        },
        {
          "output_type": "error",
          "ename": "NameError",
          "evalue": "name 'data' is not defined",
          "traceback": [
            "\u001b[0;31m---------------------------------------------------------------------------\u001b[0m",
            "\u001b[0;31mNameError\u001b[0m                                 Traceback (most recent call last)",
            "\u001b[0;32m<ipython-input-2-700da5dbcd83>\u001b[0m in \u001b[0;36m<cell line: 23>\u001b[0;34m()\u001b[0m\n\u001b[1;32m     21\u001b[0m \u001b[0;31m# Perform sentiment analysis on each narrative\u001b[0m\u001b[0;34m\u001b[0m\u001b[0;34m\u001b[0m\u001b[0m\n\u001b[1;32m     22\u001b[0m \u001b[0msentiments\u001b[0m \u001b[0;34m=\u001b[0m \u001b[0;34m[\u001b[0m\u001b[0;34m]\u001b[0m\u001b[0;34m\u001b[0m\u001b[0;34m\u001b[0m\u001b[0m\n\u001b[0;32m---> 23\u001b[0;31m \u001b[0;32mfor\u001b[0m \u001b[0mindex\u001b[0m\u001b[0;34m,\u001b[0m \u001b[0mrow\u001b[0m \u001b[0;32min\u001b[0m \u001b[0mdata\u001b[0m\u001b[0;34m.\u001b[0m\u001b[0miterrows\u001b[0m\u001b[0;34m(\u001b[0m\u001b[0;34m)\u001b[0m\u001b[0;34m:\u001b[0m\u001b[0;34m\u001b[0m\u001b[0;34m\u001b[0m\u001b[0m\n\u001b[0m\u001b[1;32m     24\u001b[0m     \u001b[0msentiment\u001b[0m \u001b[0;34m=\u001b[0m \u001b[0manalyze_sentiment\u001b[0m\u001b[0;34m(\u001b[0m\u001b[0mrow\u001b[0m\u001b[0;34m[\u001b[0m\u001b[0;34m'narrative'\u001b[0m\u001b[0;34m]\u001b[0m\u001b[0;34m)\u001b[0m\u001b[0;34m\u001b[0m\u001b[0;34m\u001b[0m\u001b[0m\n\u001b[1;32m     25\u001b[0m     \u001b[0msentiments\u001b[0m\u001b[0;34m.\u001b[0m\u001b[0mappend\u001b[0m\u001b[0;34m(\u001b[0m\u001b[0msentiment\u001b[0m\u001b[0;34m)\u001b[0m\u001b[0;34m\u001b[0m\u001b[0;34m\u001b[0m\u001b[0m\n",
            "\u001b[0;31mNameError\u001b[0m: name 'data' is not defined"
          ]
        }
      ]
    },
    {
      "cell_type": "code",
      "source": [
        "# Narrative input from the user\n",
        "input_narrative = input(\"Enter your narrative: \")\n",
        "\n",
        "# Perform sentiment analysis on the input narrative\n",
        "input_sentiment = analyze_sentiment(input_narrative)\n",
        "\n",
        "# Print the predicted sentiment\n",
        "print(\"Predicted Sentiment:\", input_sentiment)\n",
        "\n",
        "positive_count += (input_sentiment == 'Positive')\n",
        "negative_count += (input_sentiment == 'Negative')\n",
        "total_count += 1  # Increment total count by 1 for the new input narrative\n",
        "\n",
        "# Calculate accuracy\n",
        "accuracy = ((positive_count + negative_count) / total_count) * 100\n",
        "\n",
        "# Print the updated results\n",
        "print(\"Updated Total Positive Rows:\", positive_count)\n",
        "print(\"Updated Total Negative Rows:\", negative_count)\n",
        "print(\"Updated Total Rows:\", total_count)\n",
        "print(\"Updated Accuracy:\",accuracy,\"%\")"
      ],
      "metadata": {
        "colab": {
          "base_uri": "https://localhost:8080/",
          "height": 245
        },
        "id": "xidIfHJFeq6O",
        "outputId": "a791c05b-e2b3-4397-f644-1099f4a76e5c"
      },
      "id": "xidIfHJFeq6O",
      "execution_count": null,
      "outputs": [
        {
          "output_type": "stream",
          "name": "stdout",
          "text": [
            "Enter your narrative: discrimination \n",
            "Predicted Sentiment: Neutral\n"
          ]
        },
        {
          "output_type": "error",
          "ename": "NameError",
          "evalue": "name 'positive_count' is not defined",
          "traceback": [
            "\u001b[0;31m---------------------------------------------------------------------------\u001b[0m",
            "\u001b[0;31mNameError\u001b[0m                                 Traceback (most recent call last)",
            "\u001b[0;32m<ipython-input-3-8cc277edcfc3>\u001b[0m in \u001b[0;36m<cell line: 10>\u001b[0;34m()\u001b[0m\n\u001b[1;32m      8\u001b[0m \u001b[0mprint\u001b[0m\u001b[0;34m(\u001b[0m\u001b[0;34m\"Predicted Sentiment:\"\u001b[0m\u001b[0;34m,\u001b[0m \u001b[0minput_sentiment\u001b[0m\u001b[0;34m)\u001b[0m\u001b[0;34m\u001b[0m\u001b[0;34m\u001b[0m\u001b[0m\n\u001b[1;32m      9\u001b[0m \u001b[0;34m\u001b[0m\u001b[0m\n\u001b[0;32m---> 10\u001b[0;31m \u001b[0mpositive_count\u001b[0m \u001b[0;34m+=\u001b[0m \u001b[0;34m(\u001b[0m\u001b[0minput_sentiment\u001b[0m \u001b[0;34m==\u001b[0m \u001b[0;34m'Positive'\u001b[0m\u001b[0;34m)\u001b[0m\u001b[0;34m\u001b[0m\u001b[0;34m\u001b[0m\u001b[0m\n\u001b[0m\u001b[1;32m     11\u001b[0m \u001b[0mnegative_count\u001b[0m \u001b[0;34m+=\u001b[0m \u001b[0;34m(\u001b[0m\u001b[0minput_sentiment\u001b[0m \u001b[0;34m==\u001b[0m \u001b[0;34m'Negative'\u001b[0m\u001b[0;34m)\u001b[0m\u001b[0;34m\u001b[0m\u001b[0;34m\u001b[0m\u001b[0m\n\u001b[1;32m     12\u001b[0m \u001b[0mtotal_count\u001b[0m \u001b[0;34m+=\u001b[0m \u001b[0;36m1\u001b[0m  \u001b[0;31m# Increment total count by 1 for the new input narrative\u001b[0m\u001b[0;34m\u001b[0m\u001b[0;34m\u001b[0m\u001b[0m\n",
            "\u001b[0;31mNameError\u001b[0m: name 'positive_count' is not defined"
          ]
        }
      ]
    },
    {
      "cell_type": "code",
      "source": [
        "import pandas as pd\n",
        "import nltk\n",
        "from nltk.sentiment.vader import SentimentIntensityAnalyzer\n",
        "\n",
        "\n",
        "nltk.download('vader_lexicon')\n",
        "\n",
        "# Initialize the sentiment analyzer\n",
        "sia = SentimentIntensityAnalyzer()\n",
        "\n",
        "# Function to perform sentiment analysis\n",
        "def analyze_sentiment(text):\n",
        "    sentiment_score = sia.polarity_scores(text)\n",
        "    if sentiment_score['compound'] > 0.2:\n",
        "        return 'Positive'\n",
        "    elif sentiment_score['compound'] < -0.2:\n",
        "        return 'Negative'\n",
        "    else:\n",
        "        return 'Neutral'\n",
        "\n",
        "# Perform sentiment analysis on each narrative\n",
        "sentiments = []\n",
        "for index, row in data.iterrows():\n",
        "    sentiment = analyze_sentiment(row['narrative'])\n",
        "    sentiments.append(sentiment)\n",
        "\n",
        "# Add sentiment labels to the dataset or store separately for further analysis\n",
        "data['sentiment'] = sentiments\n",
        "\n",
        "# Display the DataFrame with sentiment labels\n",
        "print(data.head())\n",
        "\n",
        "# Count the total number of positive and negative rows\n",
        "positive_count = (data['sentiment'] == 'Positive').sum()\n",
        "negative_count = (data['sentiment'] == 'Negative').sum()\n",
        "total_count = len(data)\n",
        "\n",
        "# Calculate accuracy\n",
        "accuracy = ((positive_count + negative_count) / total_count) * 100\n",
        "\n",
        "# Print the results\n",
        "print(\"Total Positive Rows:\", positive_count)\n",
        "print(\"Total Negative Rows:\", negative_count)\n",
        "print(\"Total Rows:\", total_count)\n",
        "print(\"Accuracy:\", accuracy, \"%\")"
      ],
      "metadata": {
        "id": "ya4ObhHIgxS0"
      },
      "id": "ya4ObhHIgxS0",
      "execution_count": null,
      "outputs": []
    },
    {
      "cell_type": "code",
      "source": [],
      "metadata": {
        "id": "ljXm1l4tPKe1"
      },
      "id": "ljXm1l4tPKe1",
      "execution_count": null,
      "outputs": []
    }
  ],
  "metadata": {
    "kernelspec": {
      "display_name": "Python 3 (ipykernel)",
      "language": "python",
      "name": "python3"
    },
    "language_info": {
      "codemirror_mode": {
        "name": "ipython",
        "version": 3
      },
      "file_extension": ".py",
      "mimetype": "text/x-python",
      "name": "python",
      "nbconvert_exporter": "python",
      "pygments_lexer": "ipython3",
      "version": "3.9.12"
    },
    "colab": {
      "provenance": [],
      "include_colab_link": true
    }
  },
  "nbformat": 4,
  "nbformat_minor": 5
}